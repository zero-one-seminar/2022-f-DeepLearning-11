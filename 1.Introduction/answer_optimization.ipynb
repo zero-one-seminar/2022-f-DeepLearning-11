{
 "cells": [
  {
   "attachments": {},
   "cell_type": "markdown",
   "metadata": {},
   "source": [
    "# 1.Introduction\n",
    "\n",
    "目標：基礎的な最適化手法を試してみよう！"
   ]
  },
  {
   "cell_type": "code",
   "execution_count": null,
   "metadata": {},
   "outputs": [],
   "source": [
    "import numpy as np\n",
    "import matplotlib.pyplot as plt"
   ]
  },
  {
   "attachments": {},
   "cell_type": "markdown",
   "metadata": {},
   "source": [
    "### 最適化の可視化\n",
    "\n",
    "同じディレクトリにある`visualizer.py`にあるクラスで可視化できるようにしました！（拍手）"
   ]
  },
  {
   "cell_type": "code",
   "execution_count": null,
   "metadata": {},
   "outputs": [],
   "source": [
    "from visualizer import Field, Adventurer"
   ]
  },
  {
   "cell_type": "code",
   "execution_count": null,
   "metadata": {},
   "outputs": [],
   "source": [
    "def x2_y2(x, y):\n",
    "    return x ** 2 + y ** 2\n",
    "\n",
    "# フィールドの定義\n",
    "field = Field(\n",
    "    x2_y2,   # フィールドの高さを決める関数\n",
    "    (-1, 1),     # xの範囲\n",
    "    (-0.5, 0.5)  # yの範囲\n",
    ")\n",
    "\n",
    "# フィールドをプロットする\n",
    "field.plot()"
   ]
  },
  {
   "cell_type": "code",
   "execution_count": null,
   "metadata": {},
   "outputs": [],
   "source": [
    "# 無駄に高機能なので3Dでプロットもできます\n",
    "field.plot_3d()"
   ]
  },
  {
   "attachments": {},
   "cell_type": "markdown",
   "metadata": {},
   "source": [
    "## SGD (Stochastic Gradient Descent)\n",
    "\n",
    "勾配 $dL/dW$ と学習率 $\\eta$ によってパラメータを更新していく手法\n",
    "\n",
    "$$\n",
    "W \\leftarrow W - \\eta\\frac{\\partial L}{\\partial W}\n",
    "$$"
   ]
  },
  {
   "cell_type": "code",
   "execution_count": null,
   "metadata": {},
   "outputs": [],
   "source": [
    "# SGDの実装\n",
    "class SGD:\n",
    "    def __init__(self, lr=0.1):\n",
    "        self.lr = lr\n",
    "\n",
    "    def update(self, params, grads):\n",
    "        for key in params.keys():\n",
    "            params[key] -= self.lr * grads[key]  # 学習率 * 勾配 だけパラメータの値を減らす"
   ]
  },
  {
   "attachments": {},
   "cell_type": "markdown",
   "metadata": {},
   "source": [
    "### 可視化してみよう！"
   ]
  },
  {
   "cell_type": "code",
   "execution_count": null,
   "metadata": {},
   "outputs": [],
   "source": [
    "field = Field(\n",
    "    x2_y2,   # z = x^2 + y^2\n",
    "    (-1, 1), # xの範囲\n",
    "    (-1, 1)  # yの範囲\n",
    ")"
   ]
  },
  {
   "cell_type": "code",
   "execution_count": null,
   "metadata": {},
   "outputs": [],
   "source": [
    "# adventurer：冒険者\n",
    "# スタート地点を与える\n",
    "adventurer = Adventurer(0.5, 0.5)\n",
    "\n",
    "# パラメータを最適化させる\n",
    "adventurer.optimize(field, SGD())"
   ]
  },
  {
   "cell_type": "code",
   "execution_count": null,
   "metadata": {},
   "outputs": [],
   "source": [
    "# adventurerがたどった道筋を取得\n",
    "route = adventurer.route\n",
    "\n",
    "# routeをフィールドに表示\n",
    "field.plot(route=route)"
   ]
  },
  {
   "attachments": {},
   "cell_type": "markdown",
   "metadata": {},
   "source": [
    "### SGDの弱点は？？\n",
    "\n",
    "↓こんなとき"
   ]
  },
  {
   "cell_type": "code",
   "execution_count": null,
   "metadata": {},
   "outputs": [],
   "source": [
    "# SGDに強い関数\n",
    "def anti_SGD(x, y):\n",
    "    return x ** 2 / 20 + y ** 2"
   ]
  },
  {
   "cell_type": "code",
   "execution_count": null,
   "metadata": {},
   "outputs": [],
   "source": [
    "field = Field(anti_SGD, (-1, 1), (-0.5, 0.5))\n",
    "adventurer = Adventurer(-0.5, 0.2)  # 冒険者の初期値は(-0.5, 0.2)\n",
    "sgd = SGD(lr=1)  # 学習率を1に設定"
   ]
  },
  {
   "cell_type": "code",
   "execution_count": null,
   "metadata": {},
   "outputs": [],
   "source": [
    "adventurer.optimize(field, sgd)\n",
    "adventurer.route"
   ]
  },
  {
   "cell_type": "code",
   "execution_count": null,
   "metadata": {},
   "outputs": [],
   "source": [
    "field.plot(adventurer.route)"
   ]
  },
  {
   "attachments": {},
   "cell_type": "markdown",
   "metadata": {},
   "source": [
    "## Momentum\n",
    "\n",
    "**運動量**をもとにしたパラメータ更新手法です。式はこんな感じ\n",
    "\n",
    "速度の更新\n",
    "$$\n",
    "v \\leftarrow \\alpha v - \\eta\\frac{\\partial L}{\\partial W}\n",
    "$$\n",
    "\n",
    "パラメータの更新\n",
    "$$\n",
    "W \\leftarrow W + v\n",
    "$$\n",
    "\n",
    "物理好きの方ならピントくるのでは？？"
   ]
  },
  {
   "cell_type": "code",
   "execution_count": null,
   "metadata": {},
   "outputs": [],
   "source": [
    "# Momentumの実装\n",
    "class Momentum:\n",
    "    def __init__(self, lr=0.1, momentum=0.9):\n",
    "        self.lr = lr\n",
    "        self.momentum = momentum\n",
    "        self.v = None\n",
    "\n",
    "    def update(self, params, grads):\n",
    "        if self.v == None:\n",
    "            self.v = {}\n",
    "            for key, val in params.items():\n",
    "                self.v[key] = np.zeros_like(val)\n",
    "        \n",
    "        for key in params.keys():\n",
    "            self.v[key] = self.momentum * self.v[key] - self.lr * grads[key]\n",
    "            params[key] += self.v[key]"
   ]
  },
  {
   "cell_type": "code",
   "execution_count": null,
   "metadata": {},
   "outputs": [],
   "source": [
    "# SGDに強いフィールド\n",
    "field = Field(anti_SGD, (-1, 1), (-0.5, 0.5))\n",
    "\n",
    "# さっきのフィールドで可視化してみる\n",
    "adventurer2 = Adventurer(-0.5, 0.2)\n",
    "\n",
    "# momentumを使う\n",
    "momentum = Momentum()"
   ]
  },
  {
   "cell_type": "code",
   "execution_count": null,
   "metadata": {},
   "outputs": [],
   "source": [
    "# momentumで最適化\n",
    "adventurer2.optimize(field, momentum)\n",
    "\n",
    "adventurer2.route"
   ]
  },
  {
   "cell_type": "code",
   "execution_count": null,
   "metadata": {},
   "outputs": [],
   "source": [
    "field.plot(adventurer2.route)"
   ]
  }
 ],
 "metadata": {
  "kernelspec": {
   "display_name": ".nuinfo-seminar",
   "language": "python",
   "name": "python3"
  },
  "language_info": {
   "codemirror_mode": {
    "name": "ipython",
    "version": 3
   },
   "file_extension": ".py",
   "mimetype": "text/x-python",
   "name": "python",
   "nbconvert_exporter": "python",
   "pygments_lexer": "ipython3",
   "version": "3.10.9"
  },
  "orig_nbformat": 4,
  "vscode": {
   "interpreter": {
    "hash": "d0e59a53f67793cf7ac7f714ede3ec5c1443e5936030848320672a7820a64ee6"
   }
  }
 },
 "nbformat": 4,
 "nbformat_minor": 2
}
